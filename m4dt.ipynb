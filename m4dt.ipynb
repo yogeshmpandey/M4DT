{
 "cells": [
  {
   "cell_type": "markdown",
   "metadata": {},
   "source": [
    "<h1 align=\"center\">\n",
    "   <img src=\"https://i.imgur.com/pvCASTF.png\" alt=\"Mathematics for Digital Technologies\" title=\"Mathematics for Digital Technologies\" />\n",
    "</h1>"
   ]
  },
  {
   "cell_type": "markdown",
   "metadata": {},
   "source": [
    "* **Classroom Overview**\n",
    "  * [Introduction](#introduction)\n",
    "    * [Who is this repository for?](#audience)\n",
    "    * [How to use this repository?](#codealong)\n",
    "    * Video - [Introduction to Mathematics for Digital Technologies](http://www.youtube.com)\n",
    "\n",
    "* **Basic of Python and NumPy**\n",
    "  * Video - [Python Basics](https://www.youtube.com/embed/28-oixCfK9c)\n",
    "  * Video - [Introduction to NumPy and Matplotlib](https://www.youtube.com/embed/cZGGtxUTNIg)\n",
    "  * Lab - Basic of Python, NumPy and Matplotlib [[Python](./Basics_of_Python_and_NumPy/Python%20Basics.ipynb)]\n",
    "  \n",
    "* **Linear Algebra**\n",
    "  * Video - [What are Linear Equations?](https://www.youtube.com/watch?v=CWByMDHyTos)\n",
    "  * Video - [What are Functions?](https://www.youtube.com/watch?v=P3LsdcjqS8s)\n",
    "  * Video - [Introduction to Vectors](http://www.youtube.com/watch?v=CMJlwIobuF4)\n",
    "  * Lab - Understanding Linear Algebra [[Python](./Equations_Functions_Vectors/Equations_Functions_Vectors.ipynb)]\n",
    "\n",
    "* **Introduction to Matrices**\n",
    "  * Video - [Introduction to Matrices](http://www.youtube.com)\n",
    "  * Video - [Solving Linear Equations with Matrices](http://www.youtube.com)\n",
    "  * Video - [What are Eigenvalues and Eigenvectors?](http://www.youtube.com)\n",
    "  * Lab - Introduction to Matrices [[Python](./Introduction_to_Matrices/Introduction_to_Matrices.ipynb)]\n",
    "\n",
    "* **Basics of Calculus**\n",
    "  * Video - [What is the rate of change?](http://www.youtube.com)\n",
    "  * Video - [Introduction to differentiation](http://www.youtube.com)\n",
    "  * Video - [Introduction to Integration](http://www.youtube.com)\n",
    "  * Lab - Basics of Calculus [[Python](./Basics_of_Python_and_Numpy/Basics_of_Python_and_Numpy.ipynb)]\n",
    "  \n",
    "* **Statistics and Probability**\n",
    "  * Video - [Introduction to Statistics](http://www.youtube.com)\n",
    "  * Video - [Visualizing data](http://www.youtube.com)\n",
    "  * Video - [Introduction to Probability Theory](http://www.youtube.com)\n",
    "  * Lab - Statistics and Probability [[Python](./Basics_of_Python_and_Numpy/Basics_of_Python_and_Numpy.ipynb)]\n",
    "\n",
    "* **Implementation examples: Predicting Something**\n",
    "  * Video - [Working with Datasets](http://www.youtube.com)\n",
    "  * Video - [What is Linear Regression](http://www.youtube.com)\n",
    "  * Video - [Making Predictions](http://www.youtube.com)\n",
    "  * Lab - Let's Predict something[[Python](./Basics_of_Python_and_Numpy/Basics_of_Python_and_Numpy.ipynb)]\n",
    "\n",
    "\n",
    "* **Additional Lessons**\n",
    "\n",
    "<!--\t\n",
    "* **Course Survey**\n",
    "  - [Course Survey](test.com)\n",
    "  -->\n",
    "> #### Note"
   ]
  },
  {
   "cell_type": "code",
   "execution_count": null,
   "metadata": {},
   "outputs": [],
   "source": []
  }
 ],
 "metadata": {
  "kernelspec": {
   "display_name": "Python 3",
   "language": "python",
   "name": "python3"
  },
  "language_info": {
   "codemirror_mode": {
    "name": "ipython",
    "version": 3
   },
   "file_extension": ".py",
   "mimetype": "text/x-python",
   "name": "python",
   "nbconvert_exporter": "python",
   "pygments_lexer": "ipython3",
   "version": "3.7.4"
  }
 },
 "nbformat": 4,
 "nbformat_minor": 2
}