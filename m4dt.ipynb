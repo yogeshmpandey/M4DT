{
 "cells": [
  {
   "cell_type": "markdown",
   "metadata": {},
   "source": [
    "<h1 align=\"center\">\n",
    "   <img src=\"https://i.imgur.com/pvCASTF.png\" alt=\"Mathematics for Digital Technologies\" title=\"Mathematics for Digital Technologies\" />\n",
    "</h1>"
   ]
  },
  {
   "cell_type": "markdown",
   "metadata": {},
   "source": [
    "* **Classroom Overview**\n",
    "  * [Introduction](#introduction)\n",
    "    * [Who is this repository for?](#audience)\n",
    "    * [How to use this repository?](#codealong)\n",
    "\n",
    "* **Basic of Python and NumPy**\n",
    "  * Video - [Python Basics](https://www.youtube.com/embed/28-oixCfK9c)\n",
    "  * Video - [Introduction to NumPy and Matplotlib](https://www.youtube.com/embed/cZGGtxUTNIg)\n",
    "  * Lab - Basic of Python, NumPy and Matplotlib [[Python](./Basics_of_Python_and_NumPy/Python%20Basics.ipynb)]\n",
    "  \n",
    "* **Linear Algebra**\n",
    "  * Video - [What are Linear Equations?](https://www.youtube.com/watch?v=CWByMDHyTos)\n",
    "  * Video - [What are Functions?](https://www.youtube.com/watch?v=P3LsdcjqS8s)\n",
    "  * Video - [Introduction to Vectors](http://www.youtube.com/watch?v=CMJlwIobuF4)\n",
    "  * Lab - Understanding Linear Algebra [[Python](./Equations_Functions_Vectors/Equations_Functions_Vectors.ipynb)]\n",
    "\n",
    "* **Introduction to Matrices**\n",
    "  * Video - [Introduction to Matrices](https://www.youtube.com/watch?v=DQUIj5XoDao)\n",
    "  * Video - [Solving Linear Equations with Matrices](https://www.youtube.com/watch?v=Vq1tSPVQcPs)\n",
    "  * Video - [What are Eigenvalues and Eigenvectors?](https://www.youtube.com/watch?v=0Y1xztCb434)\n",
    "  * Lab - Introduction to Matrices [[Python](./Introduction_to_Matrices/Introduction_to_Matrices.ipynb)]\n",
    "\n",
    "* **Basics of Calculus**\n",
    "  * Video - [What is the rate of change?](https://www.youtube.com/watch?v=K2jQ0AGbYaA)\n",
    "  * Video - [Introduction to differentiation](https://www.youtube.com/watch?v=a5WVw9vmGHU)\n",
    "  * Video - [Introduction to Integration](https://www.youtube.com/watch?v=5pwZchmmgF0)\n",
    "  * Lab - Basics of Calculus [[Python](./Basics_of_Calculus/Basics_of_Calculus.ipynb)]\n",
    "  \n",
    "* **Statistics and Probability**\n",
    "  * Video - [Introduction to Statistics](https://www.youtube.com/watch?v=1JYGdI58xuU)\n",
    "  * Video - [Visualizing data](https://www.youtube.com/watch?v=1etMjhxH_e8)\n",
    "  * Video - [Introduction to Probability Theory](https://www.youtube.com/watch?v=TLGYsch6YFA)\n",
    "  * Lab - Statistics and Probability [[Python](./Statistics_and_Probability/Statistics_and_Probability.ipynb)]\n",
    "\n",
    "* **Implementation examples: Predicting Something**\n",
    "  * Video - [Making Predictions](https://www.youtube.com/watch?v=OxMNNjp-mDw)\n",
    "  * Lab - Predicting Housing Prices[[Python](./Implementation_Examples_Predicting_Something/Implementation_Examples_Predicting_Something.ipynb)]\n",
    "\n",
    "\n",
    "* **Additional Lessons**\n",
    "\n",
    "<!--\t\n",
    "* **Course Survey**\n",
    "  - [Course Survey](test.com)\n",
    "  -->\n",
    "> #### Note"
   ]
  },
  {
   "cell_type": "code",
   "execution_count": null,
   "metadata": {},
   "outputs": [],
   "source": []
  }
 ],
 "metadata": {
  "kernelspec": {
   "display_name": "Python 3",
   "language": "python",
   "name": "python3"
  },
  "language_info": {
   "codemirror_mode": {
    "name": "ipython",
    "version": 3
   },
   "file_extension": ".py",
   "mimetype": "text/x-python",
   "name": "python",
   "nbconvert_exporter": "python",
   "pygments_lexer": "ipython3",
   "version": "3.7.4"
  }
 },
 "nbformat": 4,
 "nbformat_minor": 2
}