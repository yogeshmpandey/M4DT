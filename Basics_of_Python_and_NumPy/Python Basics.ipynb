{
 "cells": [
  {
   "cell_type": "markdown",
   "metadata": {},
   "source": [
    "## Python, NumPy and MatplotLib"
   ]
  },
  {
   "cell_type": "markdown",
   "metadata": {},
   "source": [
    "Python is a high-level, dynamically typed programming language used extensively in Digital technologies. It is used from rapid prototyping to industrial-grade enterprise applications. Below we will learn about the basics of the language. In this classroom, we will use Python version 3 as Python version 2 is now discontinued. Lets look at this video to get the basic understanding for of Python"
   ]
  },
  {
   "cell_type": "code",
   "execution_count": 2,
   "metadata": {
    "scrolled": false
   },
   "outputs": [
    {
     "data": {
      "text/html": [
       "\n",
       "        <iframe\n",
       "            width=\"860\"\n",
       "            height=\"460\"\n",
       "            src=\"https://www.youtube.com/embed/28-oixCfK9c\"\n",
       "            frameborder=\"0\"\n",
       "            allowfullscreen\n",
       "        ></iframe>\n",
       "        "
      ],
      "text/plain": [
       "<IPython.lib.display.YouTubeVideo at 0x196038b9288>"
      ]
     },
     "execution_count": 2,
     "metadata": {},
     "output_type": "execute_result"
    }
   ],
   "source": [
    "from IPython.display import YouTubeVideo\n",
    "YouTubeVideo('28-oixCfK9c', width=860, height=460)"
   ]
  },
  {
   "cell_type": "markdown",
   "metadata": {},
   "source": [
    "### Basic Data Types"
   ]
  },
  {
   "cell_type": "markdown",
   "metadata": {},
   "source": [
    "Like other programming languages, python also provides basic data structures like [integers, floats](https://docs.python.org/3.5/library/stdtypes.html#numeric-types-int-float-complex), [booleans](https://docs.python.org/3.5/library/stdtypes.html#boolean-operations-and-or-not), and [strings](https://docs.python.org/3.5/library/stdtypes.html#string-methods). Integers and floats work same as in other languages, but don't have unary ++ or -- operator. Booleans use 'True' and 'False' to denote the bool type, these variables can be evaluated using [and, or, not](https://docs.python.org/3.5/library/stdtypes.html#boolean-operations-and-or-not). [Strings](https://docs.python.org/3.5/library/stdtypes.html#string-methods) in python provide a lot of functionality as we see in the below examples."
   ]
  },
  {
   "cell_type": "code",
   "execution_count": null,
   "metadata": {},
   "outputs": [],
   "source": [
    "#initailizing variable\n",
    "\n",
    "num = 5\n",
    "num_f = 6.5\n",
    "\n",
    "print(num)\n",
    "print(type(num))\n",
    "print(num_f)\n",
    "print(type(num_f))\n",
    "\n",
    "# Operations\n",
    "\n",
    "print(num+2)\n",
    "print(num-2)\n",
    "print(num+num_f)\n",
    "print (num/2)\n",
    "print (num*2)\n",
    "print (num**2)\n",
    "\n",
    "# Shortcuts\n",
    "\n",
    "num += 3\n",
    "print (num)"
   ]
  },
  {
   "cell_type": "code",
   "execution_count": null,
   "metadata": {},
   "outputs": [],
   "source": [
    "# Booleans\n",
    "\n",
    "t, f = True, False\n",
    "\n",
    "print (type(t))\n",
    "\n",
    "print (t or f)\n",
    "\n",
    "print (t and f)\n"
   ]
  },
  {
   "cell_type": "code",
   "execution_count": null,
   "metadata": {},
   "outputs": [],
   "source": [
    "# Strings\n",
    "\n",
    "d = ' digital '\n",
    "t = 'technology'\n",
    "\n",
    "# String concatenation\n",
    "print (d+' '+t)\n",
    "\n",
    "# String Methods\n",
    "\n",
    "print ('{0} {1}'.format(d,t))\n",
    "print (d.capitalize())\n",
    "print (d.upper())\n",
    "print (d.replace('d','g'))\n",
    "print (d.strip())"
   ]
  },
  {
   "cell_type": "markdown",
   "metadata": {},
   "source": [
    "### Data Containers"
   ]
  },
  {
   "cell_type": "markdown",
   "metadata": {},
   "source": [
    "Apart from the basic data types, python provides [containers](https://docs.python.org/3.5/tutorial/datastructures.html#data-structures) to use and manipulate the basic data types with ease. These containers are built in the core of the language and don't need explicit libraries to work with. Python also supports a concept of iteration over containers using [generators](https://docs.python.org/3.5/library/stdtypes.html#generator-types). Let's discuss each of these topics in detail. "
   ]
  },
  {
   "cell_type": "markdown",
   "metadata": {},
   "source": [
    "#### Lists"
   ]
  },
  {
   "cell_type": "markdown",
   "metadata": {},
   "source": [
    "[Lists](https://docs.python.org/3.5/tutorial/datastructures.html#more-on-lists) in python is an ordered, mutable collection of objects. You can think of [lists](https://docs.python.org/3.5/tutorial/datastructures.html#more-on-lists) as an array with additional functionalities. These additional functionalities include list slicing, resizing, looping and list comprehensions.  Lists are created using square brackets, i.e. []. Let's explore more about Lists in the cell below. "
   ]
  },
  {
   "cell_type": "code",
   "execution_count": null,
   "metadata": {},
   "outputs": [],
   "source": [
    "# Lists\n",
    "\n",
    "pt = [3, 6, 9]\n",
    "\n",
    "print (type(pt))\n",
    "\n",
    "print (pt, pt[2])\n",
    "\n",
    "pt[2] = 'digital'\n",
    "\n",
    "print (pt)\n",
    "\n",
    "pt.append('Technologies')\n",
    "print (pt)"
   ]
  },
  {
   "cell_type": "code",
   "execution_count": null,
   "metadata": {},
   "outputs": [],
   "source": [
    "# List Slicing\n",
    "\n",
    "pt = list(range(7))\n",
    "\n",
    "print (pt)\n",
    "\n",
    "print(pt[2:5])\n",
    "\n",
    "print(pt[-1])\n",
    "\n",
    "print (pt [:4])\n",
    "\n",
    "print (pt[3:])"
   ]
  },
  {
   "cell_type": "code",
   "execution_count": null,
   "metadata": {},
   "outputs": [],
   "source": [
    "# List loops\n",
    "\n",
    "pt = list (range(7))\n",
    "\n",
    "print (pt)\n",
    "\n",
    "for value in pt:\n",
    "    print (value**2)"
   ]
  },
  {
   "cell_type": "code",
   "execution_count": null,
   "metadata": {},
   "outputs": [],
   "source": [
    "#List comprehension\n",
    "pt = list (range(7))\n",
    "\n",
    "sqrt = [x**2 for x in pt ]\n",
    "\n",
    "print(sqrt)"
   ]
  },
  {
   "cell_type": "markdown",
   "metadata": {},
   "source": [
    "#### Dictionary"
   ]
  },
  {
   "cell_type": "markdown",
   "metadata": {},
   "source": [
    "[Dictionaries](https://docs.python.org/3.5/tutorial/datastructures.html#dictionaries) in python is a unordered set of key-value pairs. It is indexed by keys, which can be any immutable type. You can think of [dictionaries](https://docs.python.org/3.5/tutorial/datastructures.html#dictionaries) as an “associative array”. Dictionaries are created using braces, i.e. {}. Similar to list, it provides additional functionalities include dictionary slicing, resizing, looping and dict comprehensions. Let's explore more about Dictionaries in the cell below. "
   ]
  },
  {
   "cell_type": "code",
   "execution_count": null,
   "metadata": {},
   "outputs": [],
   "source": [
    "# Dictionaries\n",
    "\n",
    "val = {'sky':'blue','grass':'green','flower':'red'}\n",
    "\n",
    "print (val)\n",
    "\n",
    "print(val['sky'])\n",
    "\n",
    "for k, v in val.items():\n",
    "    print ('{0} is {1}'.format(k,v))"
   ]
  },
  {
   "cell_type": "markdown",
   "metadata": {},
   "source": [
    "#### Sets"
   ]
  },
  {
   "cell_type": "markdown",
   "metadata": {},
   "source": [
    "A [set](https://docs.python.org/3.5/library/stdtypes.html#set) is an unordered unique collection of objects. Unlike lists or tuples, a set cannot have multiple occurrences of the same element. You can create a set using set() command. Let's explore more about sets in the cell below. "
   ]
  },
  {
   "cell_type": "code",
   "execution_count": null,
   "metadata": {},
   "outputs": [],
   "source": [
    "# Sets\n",
    "\n",
    "vehicle = {'car','truck','bikes'}\n",
    "\n",
    "print(vehicle)\n",
    "\n",
    "vehicle.add('scooter')\n",
    "\n",
    "print(vehicle)\n",
    "\n",
    "vehicle.remove('car')\n",
    "\n",
    "print(vehicle)\n",
    "\n",
    "for i in vehicle:\n",
    "    print(i)"
   ]
  },
  {
   "cell_type": "markdown",
   "metadata": {},
   "source": [
    "#### Tuples"
   ]
  },
  {
   "cell_type": "markdown",
   "metadata": {},
   "source": [
    "[Tuples](https://docs.python.org/3.5/tutorial/datastructures.html#tuples-and-sequences) are similar to lists but are not mutable. Tuples are faster and smaller than a list. One key feature of a tuple is that unlike lists, it can be used as a key in dictionaries and as elements of sets. A tuple can be created with an () or with the tuple() builtin function. Let's explore more about sets in the cell below."
   ]
  },
  {
   "cell_type": "code",
   "execution_count": null,
   "metadata": {},
   "outputs": [],
   "source": [
    "# Tuples\n",
    "\n",
    "t = (1,3)\n",
    "\n",
    "print (type(t))\n",
    "\n",
    "for i in t:\n",
    "    print (i)\n",
    "    \n",
    "# Dict comprehension with tuples\n",
    "\n",
    "dt = {(x,x**2): x for x in range(10)}\n",
    "\n",
    "print (dt)"
   ]
  },
  {
   "cell_type": "markdown",
   "metadata": {},
   "source": [
    "### Functions"
   ]
  },
  {
   "cell_type": "markdown",
   "metadata": {},
   "source": [
    "[Functions](https://docs.python.org/3.5/tutorial/controlflow.html#defining-functions) help abstract the functionality into a module. Functions make the program more organized, modular and manageable as it grows in size. Functions in python are created using def Keyword. Let's explore functions in the cell below."
   ]
  },
  {
   "cell_type": "code",
   "execution_count": null,
   "metadata": {},
   "outputs": [],
   "source": [
    "def mult(a, b):\n",
    "    return(a*b)\n",
    "\n",
    "def add(a,b):\n",
    "    return(a+b)\n",
    "\n",
    "print (mult(2,4))\n",
    "print (add(3,5))"
   ]
  },
  {
   "cell_type": "markdown",
   "metadata": {},
   "source": [
    "### Classes"
   ]
  },
  {
   "cell_type": "markdown",
   "metadata": {},
   "source": [
    "Like in other Object-oriented languages, [classes](https://docs.python.org/3.5/tutorial/classes.html) in python provide a mechanism of encapsulating variables and functions and serve as a blueprint for the objects. In python, a class is created by the keyword class.  Let's explore classes in the cell below."
   ]
  },
  {
   "cell_type": "code",
   "execution_count": null,
   "metadata": {},
   "outputs": [],
   "source": [
    "# Classes\n",
    "\n",
    "class hello:\n",
    "    \n",
    "    def __init__(self, name):\n",
    "        self.name = name\n",
    "        \n",
    "    def greet(self):\n",
    "        print (\"Hello {0} to the class\".format(self.name))\n",
    "        \n",
    "h = hello('learner')\n",
    "\n",
    "h.greet()"
   ]
  },
  {
   "cell_type": "markdown",
   "metadata": {},
   "source": [
    "### NumPy"
   ]
  },
  {
   "cell_type": "code",
   "execution_count": 4,
   "metadata": {},
   "outputs": [
    {
     "data": {
      "image/jpeg": "[encoded data removed]",
      "text/html": [
       "\n",
       "        <iframe\n",
       "            width=\"860\"\n",
       "            height=\"460\"\n",
       "            src=\"https://www.youtube.com/embed/cZGGtxUTNIg\"\n",
       "            frameborder=\"0\"\n",
       "            allowfullscreen\n",
       "        ></iframe>\n",
       "        "
      ],
      "text/plain": [
       "<IPython.lib.display.YouTubeVideo at 0x196038c6088>"
      ]
     },
     "execution_count": 4,
     "metadata": {},
     "output_type": "execute_result"
    }
   ],
   "source": [
    "from IPython.display import YouTubeVideo\n",
    "YouTubeVideo('cZGGtxUTNIg', width=860, height=460)"
   ]
  },
  {
   "cell_type": "markdown",
   "metadata": {},
   "source": [
    "#### Arrays\n",
    "Arrays and matrices are used in processing data in scientific, and statistical programming used in machine learning, computer vision and other digital technologies. [NumPy]((https://numpy.org/devdocs/user/quickstart.html)) provides a high-performance multidimensional array object and tools for working with these arrays. NumPy library will be very useful in our next tutorials on linear algebra."
   ]
  },
  {
   "cell_type": "code",
   "execution_count": null,
   "metadata": {},
   "outputs": [],
   "source": [
    "# Numpy\n",
    "\n",
    "import numpy as np\n",
    "\n",
    "mt1 = np.array([2,3,4])\n",
    "\n",
    "print (mt1)\n",
    "print (mt1.shape)\n",
    "\n",
    "# Other ways\n",
    "\n",
    "mt2 = np.zeros((2,2))\n",
    "print (mt2)\n",
    "\n",
    "mt3 = np.ones((2,2))\n",
    "print (mt3)\n",
    "\n",
    "mt4 = np.full((2,2),8)\n",
    "print (mt4)\n"
   ]
  },
  {
   "cell_type": "markdown",
   "metadata": {},
   "source": [
    "#### Array Maths"
   ]
  },
  {
   "cell_type": "code",
   "execution_count": null,
   "metadata": {},
   "outputs": [],
   "source": [
    "import numpy as np\n",
    "\n",
    "arr1 = np.full((2,2), 4)\n",
    "arr2 = np.full((2,2), 3)\n",
    "\n",
    "print(np.add(arr1, arr2))\n",
    "\n",
    "print(np.subtract(arr1,arr2))\n",
    "\n",
    "print(np.multiply(arr1,arr2))\n",
    "\n",
    "print(np.divide(arr1,arr2))\n"
   ]
  },
  {
   "cell_type": "markdown",
   "metadata": {},
   "source": [
    "#### Indexing and Slicing"
   ]
  },
  {
   "cell_type": "code",
   "execution_count": null,
   "metadata": {},
   "outputs": [],
   "source": [
    "arr = np.array(([1,2,3],[4,5,6],[7,8,9]))\n",
    "\n",
    "row_1 = arr[1,:]\n",
    "row_2 = arr[1:2,:]\n",
    "\n",
    "print (row_1, row_1.shape)\n",
    "print (row_2, row_2.shape)\n",
    "\n",
    "\n",
    "col_1 = arr[:,1]\n",
    "col_2 = arr[:,1:2]\n",
    "\n",
    "print (col_1, col_1.shape)\n",
    "print (col_2, col_2.shape)"
   ]
  },
  {
   "cell_type": "markdown",
   "metadata": {},
   "source": [
    "### Matplotlib\n",
    "[Matplotlib\n",
    "](https://matplotlib.org/) is a python library for creating static, animated, and interactive visualizations in Python. Matplotlib is very useful in visualization of data in the digital world. Below we will explore matplotlib plot function, which allows you to plot 2D data."
   ]
  },
  {
   "cell_type": "code",
   "execution_count": null,
   "metadata": {},
   "outputs": [],
   "source": [
    "import numpy as np\n",
    "import matplotlib.pyplot as plt\n",
    "\n",
    "year = [2011,2012,2013,2014,2015,2016]\n",
    "\n",
    "goog = [10,14,15,16,18,33]\n",
    "\n",
    "appl = [5,6,8,10,17,21]\n",
    "\n",
    "plt.plot(year,goog,\n",
    "        year,appl)\n",
    "\n",
    "plt.xlabel(\"Year\")\n",
    "\n",
    "plt.ylabel(\"Shares\")\n",
    "\n",
    "plt.show()"
   ]
  },
  {
   "cell_type": "markdown",
   "metadata": {},
   "source": [
    "#### Subplot\n",
    "\n",
    "On the same plot, we can use subplot to plot different functions. We can use add_subplot to create multiple plots in the same figure. In add_subplot \"111\" means \"1x1 grid, first subplot\" and \"334\" means \"3x3 grid, 4th subplot\"."
   ]
  },
  {
   "cell_type": "code",
   "execution_count": null,
   "metadata": {},
   "outputs": [],
   "source": [
    "fig = plt.figure(1, figsize=(15,4))\n",
    "\n",
    "chart1 = fig.add_subplot(122)\n",
    "chart2 = fig.add_subplot(121)\n",
    "\n",
    "chart1.plot(year, appl)\n",
    "\n",
    "chart2.plot(year,goog)\n"
   ]
  },
  {
   "cell_type": "markdown",
   "metadata": {},
   "source": [
    "### Exercices - Python, Numpy and Matplotlib"
   ]
  },
  {
   "cell_type": "markdown",
   "metadata": {},
   "source": [
    "1. Create a function housingData() in such a way that it should accept area and cost and display both, and if the area or cost is missing in function call it should show area as 1000 and cost as 4000."
   ]
  },
  {
   "cell_type": "code",
   "execution_count": null,
   "metadata": {},
   "outputs": [],
   "source": [
    "def housingData():\n",
    "    \"\"\"\n",
    "    Accept area and cost\n",
    "    \"\"\"\n",
    "    \n",
    "housingData()"
   ]
  },
  {
   "cell_type": "markdown",
   "metadata": {},
   "source": [
    "2. Create a NumPy 2D matrix for area and cost for atleast eight houses. Calculate the total cost and area of the 8 houses. "
   ]
  },
  {
   "cell_type": "code",
   "execution_count": null,
   "metadata": {},
   "outputs": [],
   "source": [
    "def housingData():\n",
    "    \"\"\"\n",
    "    Accept area and cost\n",
    "    \"\"\"\n",
    "    \n",
    "    \n",
    "def calculateTotalArea():\n",
    "    \"\"\"\n",
    "    Calculate total area and cost\n",
    "    \"\"\"\n",
    "    \n",
    "    \n",
    "housingData()\n",
    "calculateTotalArea()"
   ]
  },
  {
   "cell_type": "markdown",
   "metadata": {},
   "source": [
    "3. Plot the above 2D array on a graph."
   ]
  },
  {
   "cell_type": "code",
   "execution_count": null,
   "metadata": {},
   "outputs": [],
   "source": [
    "def housingData():\n",
    "    \"\"\"\n",
    "    Accept area and cost\n",
    "    \"\"\"\n",
    "    \n",
    "    \n",
    "def calculateTotalArea():\n",
    "    \"\"\"\n",
    "    Calculate total area and cost\n",
    "    \"\"\"\n",
    "    \n",
    "    \n",
    "def plotData():\n",
    "    \"\"\"\n",
    "    Plot the data for the 2D Values\n",
    "    \"\"\"\n",
    "    \n",
    "housingData()\n",
    "calculateTotalArea()\n",
    "plotData()"
   ]
  }
 ],
 "metadata": {
  "kernelspec": {
   "display_name": "Python 3",
   "language": "python",
   "name": "python3"
  },
  "language_info": {
   "codemirror_mode": {
    "name": "ipython",
    "version": 3
   },
   "file_extension": ".py",
   "mimetype": "text/x-python",
   "name": "python",
   "nbconvert_exporter": "python",
   "pygments_lexer": "ipython3",
   "version": "3.7.4"
  }
 },
 "nbformat": 4,
 "nbformat_minor": 4
}
